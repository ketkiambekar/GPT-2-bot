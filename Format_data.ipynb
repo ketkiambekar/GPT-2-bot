{
  "nbformat": 4,
  "nbformat_minor": 0,
  "metadata": {
    "colab": {
      "name": "Format_data.ipynb",
      "provenance": [],
      "toc_visible": true,
      "include_colab_link": true
    },
    "kernelspec": {
      "name": "python3",
      "display_name": "Python 3"
    }
  },
  "cells": [
    {
      "cell_type": "markdown",
      "metadata": {
        "id": "view-in-github",
        "colab_type": "text"
      },
      "source": [
        "<a href=\"https://colab.research.google.com/github/ketkiambekar/ResiBot/blob/master/Format_data.ipynb\" target=\"_parent\"><img src=\"https://colab.research.google.com/assets/colab-badge.svg\" alt=\"Open In Colab\"/></a>"
      ]
    },
    {
      "cell_type": "markdown",
      "metadata": {
        "id": "0YE2MMgoDtri"
      },
      "source": [
        "This program reads the corpus in its raw format - which is huge blocks of text. \n",
        "It then re-formats it into smaller blocks of text (of 280 characters). The idea is to make it tweetable. "
      ]
    },
    {
      "cell_type": "markdown",
      "metadata": {
        "id": "zuRFQvICEmG0"
      },
      "source": [
        "#How to execute this program:\n",
        "\n",
        "\n",
        "1.   Upload the original text corpus in the 'Files' section of Google colab (in the left side bar). \n",
        "2.   Run all the cells in sequence that they appear.\n",
        "3. The output file should appear in the left side bar under the original text corpus. (If it doesn't then , right click and choose the 'refresh' option)\n",
        "4. This formatted output text can be downloaded (right click and choose download option).  "
      ]
    },
    {
      "cell_type": "code",
      "metadata": {
        "id": "oDeBfmoWKW5A"
      },
      "source": [
        "pointer =0\n",
        "block_size=250    #-----------> Change this number if you want to change the size of block of characters\n",
        "with open (\"corpus.txt\", \"r\") as myfile:\n",
        "    data=myfile.read().replace('\\n', '').replace('\t','') "
      ],
      "execution_count": null,
      "outputs": []
    },
    {
      "cell_type": "code",
      "metadata": {
        "id": "PLIdK3XqMhCh"
      },
      "source": [
        "pointer=0\n",
        "data=data.replace(\".\",\". \")\n",
        "data=data.replace(\"  \",\" \")\n",
        "while (pointer < len(data)):\n",
        "  pointer += block_size\n",
        "  #Finds last occurence of period and replace it by period and newline\n",
        "  last_char_index = data[:pointer].rfind(\".\")\n",
        "  print(last_char_index)\n",
        "  data = data[:last_char_index+1] + \"\\n\\n\" + data[last_char_index+2:]"
      ],
      "execution_count": null,
      "outputs": []
    },
    {
      "cell_type": "code",
      "metadata": {
        "id": "uoXly8Dl7rEe"
      },
      "source": [
        "#print(data)"
      ],
      "execution_count": null,
      "outputs": []
    },
    {
      "cell_type": "code",
      "metadata": {
        "id": "46oEvIrIm_7w"
      },
      "source": [
        "#Writes it to a file\n",
        "f = open(\"formatted_corpus.txt\", \"w\")\n",
        "f.write(data)\n",
        "f.close()"
      ],
      "execution_count": null,
      "outputs": []
    }
  ]
}